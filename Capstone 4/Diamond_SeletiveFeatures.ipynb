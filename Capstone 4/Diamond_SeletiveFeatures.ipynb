{
 "cells": [
  {
   "cell_type": "code",
   "execution_count": 1,
   "id": "severe-celebrity",
   "metadata": {},
   "outputs": [
    {
     "name": "stdout",
     "output_type": "stream",
     "text": [
      "Wall time: 20.4 s\n"
     ]
    }
   ],
   "source": [
    "%%time\n",
    "import pandas as pd\n",
    "import numpy as np\n",
    "import matplotlib.pyplot as plt\n",
    "import seaborn as sns\n",
    "\n",
    "from sklearn.model_selection import train_test_split, GridSearchCV, cross_val_score, KFold\n",
    "from sklearn.preprocessing import StandardScaler, MinMaxScaler\n",
    "from sklearn.metrics import r2_score, mean_absolute_error, mean_squared_error\n",
    "from sklearn.linear_model import LinearRegression\n",
    "from sklearn.linear_model import LogisticRegression\n",
    "from sklearn.neighbors import KNeighborsRegressor\n",
    "from sklearn.svm import SVR\n",
    "from sklearn.tree import DecisionTreeRegressor\n",
    "from sklearn.ensemble import RandomForestRegressor\n",
    "from sklearn.neural_network import MLPRegressor\n",
    "from sklearn.naive_bayes import GaussianNB\n",
    "\n",
    "import warnings\n",
    "warnings.filterwarnings('ignore')\n",
    "\n",
    "SEED = 42"
   ]
  },
  {
   "cell_type": "code",
   "execution_count": 98,
   "id": "4c7143ef",
   "metadata": {},
   "outputs": [],
   "source": [
    "import xgboost as xgb"
   ]
  },
  {
   "cell_type": "markdown",
   "id": "intellectual-pennsylvania",
   "metadata": {},
   "source": [
    "## Load Database/Import Data "
   ]
  },
  {
   "cell_type": "code",
   "execution_count": 2,
   "id": "israeli-devon",
   "metadata": {},
   "outputs": [],
   "source": [
    "df = pd.read_csv(\"diamonds.csv\")"
   ]
  },
  {
   "cell_type": "code",
   "execution_count": 3,
   "id": "782c6e1e",
   "metadata": {},
   "outputs": [
    {
     "data": {
      "text/html": [
       "<div>\n",
       "<style scoped>\n",
       "    .dataframe tbody tr th:only-of-type {\n",
       "        vertical-align: middle;\n",
       "    }\n",
       "\n",
       "    .dataframe tbody tr th {\n",
       "        vertical-align: top;\n",
       "    }\n",
       "\n",
       "    .dataframe thead th {\n",
       "        text-align: right;\n",
       "    }\n",
       "</style>\n",
       "<table border=\"1\" class=\"dataframe\">\n",
       "  <thead>\n",
       "    <tr style=\"text-align: right;\">\n",
       "      <th></th>\n",
       "      <th>Unnamed: 0</th>\n",
       "      <th>carat</th>\n",
       "      <th>cut</th>\n",
       "      <th>color</th>\n",
       "      <th>clarity</th>\n",
       "      <th>depth</th>\n",
       "      <th>table</th>\n",
       "      <th>price</th>\n",
       "      <th>x</th>\n",
       "      <th>y</th>\n",
       "      <th>z</th>\n",
       "    </tr>\n",
       "  </thead>\n",
       "  <tbody>\n",
       "    <tr>\n",
       "      <th>11368</th>\n",
       "      <td>11369</td>\n",
       "      <td>1.04</td>\n",
       "      <td>Ideal</td>\n",
       "      <td>I</td>\n",
       "      <td>VS1</td>\n",
       "      <td>62.9</td>\n",
       "      <td>43.0</td>\n",
       "      <td>4997</td>\n",
       "      <td>6.45</td>\n",
       "      <td>6.41</td>\n",
       "      <td>4.04</td>\n",
       "    </tr>\n",
       "    <tr>\n",
       "      <th>35633</th>\n",
       "      <td>35634</td>\n",
       "      <td>0.29</td>\n",
       "      <td>Very Good</td>\n",
       "      <td>E</td>\n",
       "      <td>VS1</td>\n",
       "      <td>62.8</td>\n",
       "      <td>44.0</td>\n",
       "      <td>474</td>\n",
       "      <td>4.20</td>\n",
       "      <td>4.24</td>\n",
       "      <td>2.65</td>\n",
       "    </tr>\n",
       "    <tr>\n",
       "      <th>5979</th>\n",
       "      <td>5980</td>\n",
       "      <td>1.00</td>\n",
       "      <td>Fair</td>\n",
       "      <td>I</td>\n",
       "      <td>VS1</td>\n",
       "      <td>64.0</td>\n",
       "      <td>49.0</td>\n",
       "      <td>3951</td>\n",
       "      <td>6.43</td>\n",
       "      <td>6.39</td>\n",
       "      <td>4.10</td>\n",
       "    </tr>\n",
       "    <tr>\n",
       "      <th>22701</th>\n",
       "      <td>22702</td>\n",
       "      <td>0.30</td>\n",
       "      <td>Fair</td>\n",
       "      <td>E</td>\n",
       "      <td>SI1</td>\n",
       "      <td>64.5</td>\n",
       "      <td>49.0</td>\n",
       "      <td>630</td>\n",
       "      <td>4.28</td>\n",
       "      <td>4.25</td>\n",
       "      <td>2.75</td>\n",
       "    </tr>\n",
       "    <tr>\n",
       "      <th>25179</th>\n",
       "      <td>25180</td>\n",
       "      <td>2.00</td>\n",
       "      <td>Fair</td>\n",
       "      <td>H</td>\n",
       "      <td>SI1</td>\n",
       "      <td>61.2</td>\n",
       "      <td>50.0</td>\n",
       "      <td>13764</td>\n",
       "      <td>8.17</td>\n",
       "      <td>8.08</td>\n",
       "      <td>4.97</td>\n",
       "    </tr>\n",
       "    <tr>\n",
       "      <th>...</th>\n",
       "      <td>...</td>\n",
       "      <td>...</td>\n",
       "      <td>...</td>\n",
       "      <td>...</td>\n",
       "      <td>...</td>\n",
       "      <td>...</td>\n",
       "      <td>...</td>\n",
       "      <td>...</td>\n",
       "      <td>...</td>\n",
       "      <td>...</td>\n",
       "      <td>...</td>\n",
       "    </tr>\n",
       "    <tr>\n",
       "      <th>52861</th>\n",
       "      <td>52862</td>\n",
       "      <td>0.50</td>\n",
       "      <td>Fair</td>\n",
       "      <td>E</td>\n",
       "      <td>VS2</td>\n",
       "      <td>79.0</td>\n",
       "      <td>73.0</td>\n",
       "      <td>2579</td>\n",
       "      <td>5.21</td>\n",
       "      <td>5.18</td>\n",
       "      <td>4.09</td>\n",
       "    </tr>\n",
       "    <tr>\n",
       "      <th>52860</th>\n",
       "      <td>52861</td>\n",
       "      <td>0.50</td>\n",
       "      <td>Fair</td>\n",
       "      <td>E</td>\n",
       "      <td>VS2</td>\n",
       "      <td>79.0</td>\n",
       "      <td>73.0</td>\n",
       "      <td>2579</td>\n",
       "      <td>5.21</td>\n",
       "      <td>5.18</td>\n",
       "      <td>4.09</td>\n",
       "    </tr>\n",
       "    <tr>\n",
       "      <th>51342</th>\n",
       "      <td>51343</td>\n",
       "      <td>0.79</td>\n",
       "      <td>Fair</td>\n",
       "      <td>G</td>\n",
       "      <td>SI1</td>\n",
       "      <td>65.3</td>\n",
       "      <td>76.0</td>\n",
       "      <td>2362</td>\n",
       "      <td>5.52</td>\n",
       "      <td>5.13</td>\n",
       "      <td>3.35</td>\n",
       "    </tr>\n",
       "    <tr>\n",
       "      <th>50773</th>\n",
       "      <td>50774</td>\n",
       "      <td>0.81</td>\n",
       "      <td>Fair</td>\n",
       "      <td>F</td>\n",
       "      <td>SI2</td>\n",
       "      <td>68.8</td>\n",
       "      <td>79.0</td>\n",
       "      <td>2301</td>\n",
       "      <td>5.26</td>\n",
       "      <td>5.20</td>\n",
       "      <td>3.58</td>\n",
       "    </tr>\n",
       "    <tr>\n",
       "      <th>24932</th>\n",
       "      <td>24933</td>\n",
       "      <td>2.01</td>\n",
       "      <td>Fair</td>\n",
       "      <td>F</td>\n",
       "      <td>SI1</td>\n",
       "      <td>58.6</td>\n",
       "      <td>95.0</td>\n",
       "      <td>13387</td>\n",
       "      <td>8.32</td>\n",
       "      <td>8.31</td>\n",
       "      <td>4.87</td>\n",
       "    </tr>\n",
       "  </tbody>\n",
       "</table>\n",
       "<p>53940 rows × 11 columns</p>\n",
       "</div>"
      ],
      "text/plain": [
       "       Unnamed: 0  carat        cut color clarity  depth  table  price     x  \\\n",
       "11368       11369   1.04      Ideal     I     VS1   62.9   43.0   4997  6.45   \n",
       "35633       35634   0.29  Very Good     E     VS1   62.8   44.0    474  4.20   \n",
       "5979         5980   1.00       Fair     I     VS1   64.0   49.0   3951  6.43   \n",
       "22701       22702   0.30       Fair     E     SI1   64.5   49.0    630  4.28   \n",
       "25179       25180   2.00       Fair     H     SI1   61.2   50.0  13764  8.17   \n",
       "...           ...    ...        ...   ...     ...    ...    ...    ...   ...   \n",
       "52861       52862   0.50       Fair     E     VS2   79.0   73.0   2579  5.21   \n",
       "52860       52861   0.50       Fair     E     VS2   79.0   73.0   2579  5.21   \n",
       "51342       51343   0.79       Fair     G     SI1   65.3   76.0   2362  5.52   \n",
       "50773       50774   0.81       Fair     F     SI2   68.8   79.0   2301  5.26   \n",
       "24932       24933   2.01       Fair     F     SI1   58.6   95.0  13387  8.32   \n",
       "\n",
       "          y     z  \n",
       "11368  6.41  4.04  \n",
       "35633  4.24  2.65  \n",
       "5979   6.39  4.10  \n",
       "22701  4.25  2.75  \n",
       "25179  8.08  4.97  \n",
       "...     ...   ...  \n",
       "52861  5.18  4.09  \n",
       "52860  5.18  4.09  \n",
       "51342  5.13  3.35  \n",
       "50773  5.20  3.58  \n",
       "24932  8.31  4.87  \n",
       "\n",
       "[53940 rows x 11 columns]"
      ]
     },
     "execution_count": 3,
     "metadata": {},
     "output_type": "execute_result"
    }
   ],
   "source": [
    "df.sort_values('table')"
   ]
  },
  {
   "cell_type": "code",
   "execution_count": 4,
   "id": "e6414091",
   "metadata": {},
   "outputs": [],
   "source": [
    "df.drop(df[['Unnamed: 0']],axis = 1, inplace = True)"
   ]
  },
  {
   "cell_type": "code",
   "execution_count": 5,
   "id": "f9d151c4",
   "metadata": {},
   "outputs": [],
   "source": [
    "#Drop x and z, who highly dependent on y, redundant\n",
    "df.drop(df[['x']],axis = 1, inplace = True)\n",
    "df.drop(df[['z']],axis = 1, inplace = True)"
   ]
  },
  {
   "cell_type": "code",
   "execution_count": 6,
   "id": "761048bb",
   "metadata": {},
   "outputs": [
    {
     "data": {
      "text/html": [
       "<div>\n",
       "<style scoped>\n",
       "    .dataframe tbody tr th:only-of-type {\n",
       "        vertical-align: middle;\n",
       "    }\n",
       "\n",
       "    .dataframe tbody tr th {\n",
       "        vertical-align: top;\n",
       "    }\n",
       "\n",
       "    .dataframe thead th {\n",
       "        text-align: right;\n",
       "    }\n",
       "</style>\n",
       "<table border=\"1\" class=\"dataframe\">\n",
       "  <thead>\n",
       "    <tr style=\"text-align: right;\">\n",
       "      <th></th>\n",
       "      <th>carat</th>\n",
       "      <th>cut</th>\n",
       "      <th>color</th>\n",
       "      <th>clarity</th>\n",
       "      <th>depth</th>\n",
       "      <th>table</th>\n",
       "      <th>y</th>\n",
       "      <th>price</th>\n",
       "    </tr>\n",
       "  </thead>\n",
       "  <tbody>\n",
       "    <tr>\n",
       "      <th>0</th>\n",
       "      <td>0.23</td>\n",
       "      <td>Ideal</td>\n",
       "      <td>E</td>\n",
       "      <td>SI2</td>\n",
       "      <td>61.5</td>\n",
       "      <td>55.0</td>\n",
       "      <td>3.98</td>\n",
       "      <td>326</td>\n",
       "    </tr>\n",
       "    <tr>\n",
       "      <th>1</th>\n",
       "      <td>0.21</td>\n",
       "      <td>Premium</td>\n",
       "      <td>E</td>\n",
       "      <td>SI1</td>\n",
       "      <td>59.8</td>\n",
       "      <td>61.0</td>\n",
       "      <td>3.84</td>\n",
       "      <td>326</td>\n",
       "    </tr>\n",
       "    <tr>\n",
       "      <th>2</th>\n",
       "      <td>0.23</td>\n",
       "      <td>Good</td>\n",
       "      <td>E</td>\n",
       "      <td>VS1</td>\n",
       "      <td>56.9</td>\n",
       "      <td>65.0</td>\n",
       "      <td>4.07</td>\n",
       "      <td>327</td>\n",
       "    </tr>\n",
       "    <tr>\n",
       "      <th>3</th>\n",
       "      <td>0.29</td>\n",
       "      <td>Premium</td>\n",
       "      <td>I</td>\n",
       "      <td>VS2</td>\n",
       "      <td>62.4</td>\n",
       "      <td>58.0</td>\n",
       "      <td>4.23</td>\n",
       "      <td>334</td>\n",
       "    </tr>\n",
       "    <tr>\n",
       "      <th>4</th>\n",
       "      <td>0.31</td>\n",
       "      <td>Good</td>\n",
       "      <td>J</td>\n",
       "      <td>SI2</td>\n",
       "      <td>63.3</td>\n",
       "      <td>58.0</td>\n",
       "      <td>4.35</td>\n",
       "      <td>335</td>\n",
       "    </tr>\n",
       "  </tbody>\n",
       "</table>\n",
       "</div>"
      ],
      "text/plain": [
       "   carat      cut color clarity  depth  table     y  price\n",
       "0   0.23    Ideal     E     SI2   61.5   55.0  3.98    326\n",
       "1   0.21  Premium     E     SI1   59.8   61.0  3.84    326\n",
       "2   0.23     Good     E     VS1   56.9   65.0  4.07    327\n",
       "3   0.29  Premium     I     VS2   62.4   58.0  4.23    334\n",
       "4   0.31     Good     J     SI2   63.3   58.0  4.35    335"
      ]
     },
     "execution_count": 6,
     "metadata": {},
     "output_type": "execute_result"
    }
   ],
   "source": [
    "df = df[[c for c in df if c not in ['price']] + ['price']]\n",
    "df.head()"
   ]
  },
  {
   "cell_type": "code",
   "execution_count": 7,
   "id": "e2c00810",
   "metadata": {},
   "outputs": [
    {
     "name": "stdout",
     "output_type": "stream",
     "text": [
      "<class 'pandas.core.frame.DataFrame'>\n",
      "RangeIndex: 53940 entries, 0 to 53939\n",
      "Data columns (total 8 columns):\n",
      " #   Column   Non-Null Count  Dtype  \n",
      "---  ------   --------------  -----  \n",
      " 0   carat    53940 non-null  float64\n",
      " 1   cut      53940 non-null  object \n",
      " 2   color    53940 non-null  object \n",
      " 3   clarity  53940 non-null  object \n",
      " 4   depth    53940 non-null  float64\n",
      " 5   table    53940 non-null  float64\n",
      " 6   y        53940 non-null  float64\n",
      " 7   price    53940 non-null  int64  \n",
      "dtypes: float64(4), int64(1), object(3)\n",
      "memory usage: 3.3+ MB\n"
     ]
    }
   ],
   "source": [
    "df.info()"
   ]
  },
  {
   "cell_type": "code",
   "execution_count": 8,
   "id": "vocal-toilet",
   "metadata": {},
   "outputs": [],
   "source": [
    "#drop the rows with value 0 in x,y,z\n",
    "#df = df.drop(df[df['x']==0].index)\n",
    "df = df.drop(df[df['y']==0].index)\n",
    "#df = df.drop(df[df['z']==0].index)"
   ]
  },
  {
   "cell_type": "code",
   "execution_count": 9,
   "id": "meaning-frost",
   "metadata": {},
   "outputs": [
    {
     "data": {
      "text/plain": [
       "(53933, 8)"
      ]
     },
     "execution_count": 9,
     "metadata": {},
     "output_type": "execute_result"
    }
   ],
   "source": [
    "df.shape"
   ]
  },
  {
   "cell_type": "code",
   "execution_count": 10,
   "id": "colonial-alfred",
   "metadata": {},
   "outputs": [
    {
     "data": {
      "text/plain": [
       "False"
      ]
     },
     "execution_count": 10,
     "metadata": {},
     "output_type": "execute_result"
    }
   ],
   "source": [
    "df.isna().any().any()\n",
    "# df.isna().sum()"
   ]
  },
  {
   "cell_type": "code",
   "execution_count": 11,
   "id": "8eb05d7e",
   "metadata": {},
   "outputs": [],
   "source": [
    "#remove outliers\n",
    "df = df[(df[\"table\"]<75) & (df[\"table\"] > 45)]\n",
    "#remove outliers\n",
    "df = df[(df[\"y\"]<30)] \n",
    "#remove outliers\n",
    "df = df[(df[\"depth\"]<75)&(df[\"depth\"]>45)] \n"
   ]
  },
  {
   "cell_type": "code",
   "execution_count": 12,
   "id": "3c369959",
   "metadata": {},
   "outputs": [
    {
     "data": {
      "image/png": "[encoded data removed]",
      "text/plain": [
       "<Figure size 1152x864 with 2 Axes>"
      ]
     },
     "metadata": {
      "needs_background": "light"
     },
     "output_type": "display_data"
    }
   ],
   "source": [
    "# Generate a mask for the upper triangle\n",
    "matrix = np.triu(df.corr())\n",
    "\n",
    "# Set up the matplotlib figure to control size of heatmap\n",
    "fig, ax = plt.subplots(figsize=(16,12))\n",
    "\n",
    "# Plot the heatmap\n",
    "_ = sns.heatmap(df.corr(), mask=matrix, annot=True, annot_kws={\"size\": 8}, square=True, \n",
    "                cmap='coolwarm' , vmin=-1, vmax=1, fmt='.2f') "
   ]
  },
  {
   "cell_type": "code",
   "execution_count": 32,
   "id": "ad5fe518",
   "metadata": {},
   "outputs": [
    {
     "name": "stdout",
     "output_type": "stream",
     "text": [
      "Wall time: 2.74 s\n"
     ]
    },
    {
     "data": {
      "image/png": "[encoded data removed]",
      "text/plain": [
       "<Figure size 900x900 with 20 Axes>"
      ]
     },
     "metadata": {},
     "output_type": "display_data"
    }
   ],
   "source": [
    "%%time\n",
    "_ = sns.pairplot(df, corner=True, palette = 'inferno')\n",
    "# correlation matrix heatmap visualization\n",
    "sns.set(style=\"white\")"
   ]
  },
  {
   "cell_type": "code",
   "execution_count": 13,
   "id": "0ec6fd2c",
   "metadata": {},
   "outputs": [],
   "source": [
    "# Encode variables with more than 2 Classes\n",
    "df = pd.get_dummies(df, columns= [i for i in df.columns if df[i].dtypes=='object'],drop_first=True)"
   ]
  },
  {
   "cell_type": "code",
   "execution_count": 14,
   "id": "edc86761",
   "metadata": {},
   "outputs": [
    {
     "data": {
      "text/html": [
       "<div>\n",
       "<style scoped>\n",
       "    .dataframe tbody tr th:only-of-type {\n",
       "        vertical-align: middle;\n",
       "    }\n",
       "\n",
       "    .dataframe tbody tr th {\n",
       "        vertical-align: top;\n",
       "    }\n",
       "\n",
       "    .dataframe thead th {\n",
       "        text-align: right;\n",
       "    }\n",
       "</style>\n",
       "<table border=\"1\" class=\"dataframe\">\n",
       "  <thead>\n",
       "    <tr style=\"text-align: right;\">\n",
       "      <th></th>\n",
       "      <th>carat</th>\n",
       "      <th>depth</th>\n",
       "      <th>table</th>\n",
       "      <th>y</th>\n",
       "      <th>cut_Good</th>\n",
       "      <th>cut_Ideal</th>\n",
       "      <th>cut_Premium</th>\n",
       "      <th>cut_Very Good</th>\n",
       "      <th>color_E</th>\n",
       "      <th>color_F</th>\n",
       "      <th>...</th>\n",
       "      <th>color_I</th>\n",
       "      <th>color_J</th>\n",
       "      <th>clarity_IF</th>\n",
       "      <th>clarity_SI1</th>\n",
       "      <th>clarity_SI2</th>\n",
       "      <th>clarity_VS1</th>\n",
       "      <th>clarity_VS2</th>\n",
       "      <th>clarity_VVS1</th>\n",
       "      <th>clarity_VVS2</th>\n",
       "      <th>price</th>\n",
       "    </tr>\n",
       "  </thead>\n",
       "  <tbody>\n",
       "    <tr>\n",
       "      <th>0</th>\n",
       "      <td>0.23</td>\n",
       "      <td>61.5</td>\n",
       "      <td>55.0</td>\n",
       "      <td>3.98</td>\n",
       "      <td>0</td>\n",
       "      <td>1</td>\n",
       "      <td>0</td>\n",
       "      <td>0</td>\n",
       "      <td>1</td>\n",
       "      <td>0</td>\n",
       "      <td>...</td>\n",
       "      <td>0</td>\n",
       "      <td>0</td>\n",
       "      <td>0</td>\n",
       "      <td>0</td>\n",
       "      <td>1</td>\n",
       "      <td>0</td>\n",
       "      <td>0</td>\n",
       "      <td>0</td>\n",
       "      <td>0</td>\n",
       "      <td>326</td>\n",
       "    </tr>\n",
       "    <tr>\n",
       "      <th>1</th>\n",
       "      <td>0.21</td>\n",
       "      <td>59.8</td>\n",
       "      <td>61.0</td>\n",
       "      <td>3.84</td>\n",
       "      <td>0</td>\n",
       "      <td>0</td>\n",
       "      <td>1</td>\n",
       "      <td>0</td>\n",
       "      <td>1</td>\n",
       "      <td>0</td>\n",
       "      <td>...</td>\n",
       "      <td>0</td>\n",
       "      <td>0</td>\n",
       "      <td>0</td>\n",
       "      <td>1</td>\n",
       "      <td>0</td>\n",
       "      <td>0</td>\n",
       "      <td>0</td>\n",
       "      <td>0</td>\n",
       "      <td>0</td>\n",
       "      <td>326</td>\n",
       "    </tr>\n",
       "    <tr>\n",
       "      <th>2</th>\n",
       "      <td>0.23</td>\n",
       "      <td>56.9</td>\n",
       "      <td>65.0</td>\n",
       "      <td>4.07</td>\n",
       "      <td>1</td>\n",
       "      <td>0</td>\n",
       "      <td>0</td>\n",
       "      <td>0</td>\n",
       "      <td>1</td>\n",
       "      <td>0</td>\n",
       "      <td>...</td>\n",
       "      <td>0</td>\n",
       "      <td>0</td>\n",
       "      <td>0</td>\n",
       "      <td>0</td>\n",
       "      <td>0</td>\n",
       "      <td>1</td>\n",
       "      <td>0</td>\n",
       "      <td>0</td>\n",
       "      <td>0</td>\n",
       "      <td>327</td>\n",
       "    </tr>\n",
       "    <tr>\n",
       "      <th>3</th>\n",
       "      <td>0.29</td>\n",
       "      <td>62.4</td>\n",
       "      <td>58.0</td>\n",
       "      <td>4.23</td>\n",
       "      <td>0</td>\n",
       "      <td>0</td>\n",
       "      <td>1</td>\n",
       "      <td>0</td>\n",
       "      <td>0</td>\n",
       "      <td>0</td>\n",
       "      <td>...</td>\n",
       "      <td>1</td>\n",
       "      <td>0</td>\n",
       "      <td>0</td>\n",
       "      <td>0</td>\n",
       "      <td>0</td>\n",
       "      <td>0</td>\n",
       "      <td>1</td>\n",
       "      <td>0</td>\n",
       "      <td>0</td>\n",
       "      <td>334</td>\n",
       "    </tr>\n",
       "    <tr>\n",
       "      <th>4</th>\n",
       "      <td>0.31</td>\n",
       "      <td>63.3</td>\n",
       "      <td>58.0</td>\n",
       "      <td>4.35</td>\n",
       "      <td>1</td>\n",
       "      <td>0</td>\n",
       "      <td>0</td>\n",
       "      <td>0</td>\n",
       "      <td>0</td>\n",
       "      <td>0</td>\n",
       "      <td>...</td>\n",
       "      <td>0</td>\n",
       "      <td>1</td>\n",
       "      <td>0</td>\n",
       "      <td>0</td>\n",
       "      <td>1</td>\n",
       "      <td>0</td>\n",
       "      <td>0</td>\n",
       "      <td>0</td>\n",
       "      <td>0</td>\n",
       "      <td>335</td>\n",
       "    </tr>\n",
       "  </tbody>\n",
       "</table>\n",
       "<p>5 rows × 22 columns</p>\n",
       "</div>"
      ],
      "text/plain": [
       "   carat  depth  table     y  cut_Good  cut_Ideal  cut_Premium  cut_Very Good  \\\n",
       "0   0.23   61.5   55.0  3.98         0          1            0              0   \n",
       "1   0.21   59.8   61.0  3.84         0          0            1              0   \n",
       "2   0.23   56.9   65.0  4.07         1          0            0              0   \n",
       "3   0.29   62.4   58.0  4.23         0          0            1              0   \n",
       "4   0.31   63.3   58.0  4.35         1          0            0              0   \n",
       "\n",
       "   color_E  color_F  ...  color_I  color_J  clarity_IF  clarity_SI1  \\\n",
       "0        1        0  ...        0        0           0            0   \n",
       "1        1        0  ...        0        0           0            1   \n",
       "2        1        0  ...        0        0           0            0   \n",
       "3        0        0  ...        1        0           0            0   \n",
       "4        0        0  ...        0        1           0            0   \n",
       "\n",
       "   clarity_SI2  clarity_VS1  clarity_VS2  clarity_VVS1  clarity_VVS2  price  \n",
       "0            1            0            0             0             0    326  \n",
       "1            0            0            0             0             0    326  \n",
       "2            0            1            0             0             0    327  \n",
       "3            0            0            1             0             0    334  \n",
       "4            1            0            0             0             0    335  \n",
       "\n",
       "[5 rows x 22 columns]"
      ]
     },
     "execution_count": 14,
     "metadata": {},
     "output_type": "execute_result"
    }
   ],
   "source": [
    "df = df[[c for c in df if c not in ['price']] + ['price']]\n",
    "df.head()"
   ]
  },
  {
   "cell_type": "markdown",
   "id": "reliable-score",
   "metadata": {},
   "source": [
    "## Data Preprocessing/Feature Engineering"
   ]
  },
  {
   "cell_type": "code",
   "execution_count": null,
   "id": "orange-costs",
   "metadata": {},
   "outputs": [],
   "source": []
  },
  {
   "cell_type": "code",
   "execution_count": null,
   "id": "3b7115bc",
   "metadata": {},
   "outputs": [],
   "source": []
  },
  {
   "cell_type": "code",
   "execution_count": null,
   "id": "000e5a36",
   "metadata": {},
   "outputs": [],
   "source": []
  },
  {
   "cell_type": "code",
   "execution_count": null,
   "id": "96b55ebd",
   "metadata": {},
   "outputs": [],
   "source": []
  },
  {
   "cell_type": "code",
   "execution_count": null,
   "id": "f0b59b09",
   "metadata": {},
   "outputs": [],
   "source": []
  },
  {
   "cell_type": "markdown",
   "id": "removed-honduras",
   "metadata": {},
   "source": [
    "## Model Selection"
   ]
  },
  {
   "cell_type": "markdown",
   "id": "consecutive-knight",
   "metadata": {},
   "source": [
    "### Split Data (Features/Target, Train/Validation/Testing)"
   ]
  },
  {
   "cell_type": "code",
   "execution_count": 15,
   "id": "secondary-tourism",
   "metadata": {},
   "outputs": [],
   "source": [
    "X = df.drop(['price'], axis=1)\n",
    "y = df['price']"
   ]
  },
  {
   "cell_type": "code",
   "execution_count": 16,
   "id": "modern-karaoke",
   "metadata": {},
   "outputs": [],
   "source": [
    "X_train, X_test, y_train, y_test = train_test_split(X, y, test_size=0.3, random_state=SEED)"
   ]
  },
  {
   "cell_type": "markdown",
   "id": "italian-control",
   "metadata": {},
   "source": [
    "#### Feature Scaling (Normalization/Standardization)"
   ]
  },
  {
   "cell_type": "code",
   "execution_count": 17,
   "id": "contemporary-interim",
   "metadata": {},
   "outputs": [],
   "source": [
    "scaler = StandardScaler()\n",
    "\n",
    "# Fit only to the training data\n",
    "scaler.fit(X_train)\n",
    "\n",
    "StandardScaler(copy=True, with_mean=True, with_std=True)\n",
    "\n",
    "# Now apply the transformations to the data:\n",
    "X_train = scaler.transform(X_train)\n",
    "X_test = scaler.transform(X_test)"
   ]
  },
  {
   "cell_type": "code",
   "execution_count": null,
   "id": "952e21e0",
   "metadata": {},
   "outputs": [],
   "source": []
  },
  {
   "cell_type": "code",
   "execution_count": 40,
   "id": "ab16c321",
   "metadata": {},
   "outputs": [
    {
     "data": {
      "text/plain": [
       "array([[-0.88083756, -3.9070016 ,  1.60696614, ...,  1.843239  ,\n",
       "        -0.27221974, -0.32366082],\n",
       "       [ 1.47596744,  0.59461324, -1.10642673, ..., -0.54252324,\n",
       "        -0.27221974, -0.32366082],\n",
       "       [ 1.91786838,  0.24292458,  0.25026971, ..., -0.54252324,\n",
       "        -0.27221974, -0.32366082],\n",
       "       ...,\n",
       "       [ 0.02400722, -1.79686964, -0.20196244, ..., -0.54252324,\n",
       "        -0.27221974, -0.32366082],\n",
       "       [-1.04918078,  0.10224912,  0.70250185, ..., -0.54252324,\n",
       "        -0.27221974,  3.08965412],\n",
       "       [-0.01807859, -0.24943954,  0.70250185, ..., -0.54252324,\n",
       "        -0.27221974, -0.32366082]])"
      ]
     },
     "execution_count": 40,
     "metadata": {},
     "output_type": "execute_result"
    }
   ],
   "source": [
    "X_test"
   ]
  },
  {
   "cell_type": "markdown",
   "id": "previous-apparel",
   "metadata": {},
   "source": [
    "### Train a Model"
   ]
  },
  {
   "cell_type": "code",
   "execution_count": 107,
   "id": "1bf6b7db",
   "metadata": {},
   "outputs": [],
   "source": [
    "results = []\n",
    "names = []\n",
    "scoring='r2'"
   ]
  },
  {
   "cell_type": "code",
   "execution_count": 108,
   "id": "breathing-cache",
   "metadata": {},
   "outputs": [
    {
     "name": "stdout",
     "output_type": "stream",
     "text": [
      "Baseline Model's score: 0.92 (avg) 0.00 (std)\n",
      "Wall time: 26.3 s\n"
     ]
    }
   ],
   "source": [
    "%%time\n",
    "lr_baseline = LinearRegression()\n",
    "scores = cross_val_score(lr_baseline, X_train,y_train, scoring=scoring, cv=5,n_jobs=-1)\n",
    "baseline_mean_score = scores.mean()\n",
    "print(\"Baseline Model's score: {:.2f} (avg) {:.2f} (std)\".format(scores.mean(), scores.std()))\n",
    "results.append(scores)\n",
    "names.append('LR')"
   ]
  },
  {
   "cell_type": "code",
   "execution_count": 109,
   "id": "95ccaf3f",
   "metadata": {},
   "outputs": [
    {
     "data": {
      "text/plain": [
       "[array([0.91357604, 0.92564848, 0.91872992, 0.9172607 , 0.91533027])]"
      ]
     },
     "execution_count": 109,
     "metadata": {},
     "output_type": "execute_result"
    }
   ],
   "source": [
    "results"
   ]
  },
  {
   "cell_type": "code",
   "execution_count": 110,
   "id": "ab6f991a",
   "metadata": {},
   "outputs": [
    {
     "data": {
      "text/plain": [
       "['LR']"
      ]
     },
     "execution_count": 110,
     "metadata": {},
     "output_type": "execute_result"
    }
   ],
   "source": [
    "names"
   ]
  },
  {
   "cell_type": "markdown",
   "id": "applied-monitor",
   "metadata": {},
   "source": [
    "### Evaluate Multiple Models and Select Best Model"
   ]
  },
  {
   "cell_type": "code",
   "execution_count": 111,
   "id": "9fab2c57",
   "metadata": {},
   "outputs": [
    {
     "name": "stdout",
     "output_type": "stream",
     "text": [
      "KNN Mean score: 0.94 (avg) 0.00 (std)\n",
      "Wall time: 33.6 s\n"
     ]
    }
   ],
   "source": [
    "%%time\n",
    "KNNReg = KNeighborsRegressor()\n",
    "scores = cross_val_score(KNNReg, X_train,  y_train, cv=5,  scoring=scoring)\n",
    "msg = (\"KNN Mean score: {:.2f} (avg) {:.2f} (std)\".format(scores.mean(), scores.std()))\n",
    "print(msg)\n",
    "results.append(scores)\n",
    "names.append('KNN')"
   ]
  },
  {
   "cell_type": "code",
   "execution_count": 112,
   "id": "b22ceb94",
   "metadata": {},
   "outputs": [
    {
     "data": {
      "text/plain": [
       "[array([0.91357604, 0.92564848, 0.91872992, 0.9172607 , 0.91533027]),\n",
       " array([0.93629693, 0.9342846 , 0.93399841, 0.93909517, 0.93632777])]"
      ]
     },
     "execution_count": 112,
     "metadata": {},
     "output_type": "execute_result"
    }
   ],
   "source": [
    "results"
   ]
  },
  {
   "cell_type": "code",
   "execution_count": 113,
   "id": "d67569ea",
   "metadata": {},
   "outputs": [
    {
     "data": {
      "text/plain": [
       "['LR', 'KNN']"
      ]
     },
     "execution_count": 113,
     "metadata": {},
     "output_type": "execute_result"
    }
   ],
   "source": [
    "names"
   ]
  },
  {
   "cell_type": "code",
   "execution_count": 114,
   "id": "cadb238d",
   "metadata": {},
   "outputs": [
    {
     "name": "stdout",
     "output_type": "stream",
     "text": [
      "MLPReg Mean score: 0.96 (avg) 0.00 (std)\n",
      "Wall time: 2min 45s\n"
     ]
    }
   ],
   "source": [
    "%%time\n",
    "MLPReg = MLPRegressor()\n",
    "scores = cross_val_score(MLPReg, X_train,  y_train, cv=5,  scoring=scoring)\n",
    "msg = (\"MLPReg Mean score: {:.2f} (avg) {:.2f} (std)\".format(scores.mean(), scores.std()))\n",
    "print(msg)\n",
    "results.append(scores)\n",
    "names.append('MLP')"
   ]
  },
  {
   "cell_type": "code",
   "execution_count": 115,
   "id": "789d6896",
   "metadata": {},
   "outputs": [
    {
     "data": {
      "text/plain": [
       "[array([0.91357604, 0.92564848, 0.91872992, 0.9172607 , 0.91533027]),\n",
       " array([0.93629693, 0.9342846 , 0.93399841, 0.93909517, 0.93632777]),\n",
       " array([0.96283887, 0.9683675 , 0.96489754, 0.96430647, 0.96165621])]"
      ]
     },
     "execution_count": 115,
     "metadata": {},
     "output_type": "execute_result"
    }
   ],
   "source": [
    "results"
   ]
  },
  {
   "cell_type": "code",
   "execution_count": 116,
   "id": "3602ce55",
   "metadata": {},
   "outputs": [
    {
     "data": {
      "text/plain": [
       "['LR', 'KNN', 'MLP']"
      ]
     },
     "execution_count": 116,
     "metadata": {},
     "output_type": "execute_result"
    }
   ],
   "source": [
    "names"
   ]
  },
  {
   "cell_type": "code",
   "execution_count": 117,
   "id": "19722b1c",
   "metadata": {},
   "outputs": [
    {
     "name": "stdout",
     "output_type": "stream",
     "text": [
      "DT Mean score: 0.95 (avg) 0.00 (std)\n",
      "Wall time: 1.02 s\n"
     ]
    }
   ],
   "source": [
    "%%time\n",
    "DT = DecisionTreeRegressor()\n",
    "scores = cross_val_score(DT, X_train,  y_train, cv=3,  scoring=scoring)\n",
    "msg = (\"DT Mean score: {:.2f} (avg) {:.2f} (std)\".format(scores.mean(), scores.std()))\n",
    "print(msg)\n",
    "results.append(scores)\n",
    "names.append('DT')"
   ]
  },
  {
   "cell_type": "code",
   "execution_count": 118,
   "id": "23cabf43",
   "metadata": {},
   "outputs": [
    {
     "data": {
      "text/plain": [
       "[array([0.91357604, 0.92564848, 0.91872992, 0.9172607 , 0.91533027]),\n",
       " array([0.93629693, 0.9342846 , 0.93399841, 0.93909517, 0.93632777]),\n",
       " array([0.96283887, 0.9683675 , 0.96489754, 0.96430647, 0.96165621]),\n",
       " array([0.95331602, 0.94744034, 0.95415169])]"
      ]
     },
     "execution_count": 118,
     "metadata": {},
     "output_type": "execute_result"
    }
   ],
   "source": [
    "results"
   ]
  },
  {
   "cell_type": "code",
   "execution_count": 119,
   "id": "7250f721",
   "metadata": {},
   "outputs": [
    {
     "data": {
      "text/plain": [
       "['LR', 'KNN', 'MLP', 'DT']"
      ]
     },
     "execution_count": 119,
     "metadata": {},
     "output_type": "execute_result"
    }
   ],
   "source": [
    "names"
   ]
  },
  {
   "cell_type": "code",
   "execution_count": 120,
   "id": "1c5a3de4",
   "metadata": {},
   "outputs": [
    {
     "name": "stdout",
     "output_type": "stream",
     "text": [
      "RF Mean score: 0.97 (avg) 0.00 (std)\n",
      "Wall time: 37.4 s\n"
     ]
    }
   ],
   "source": [
    "%%time\n",
    "RF = RandomForestRegressor()\n",
    "scores = cross_val_score(RF, X_train,  y_train, cv=3,  scoring=scoring)\n",
    "msg = (\"RF Mean score: {:.2f} (avg) {:.2f} (std)\".format(scores.mean(), scores.std()))\n",
    "print(msg)\n",
    "results.append(scores)\n",
    "names.append('RF')"
   ]
  },
  {
   "cell_type": "code",
   "execution_count": 121,
   "id": "8511cd3e",
   "metadata": {},
   "outputs": [
    {
     "data": {
      "text/plain": [
       "[array([0.91357604, 0.92564848, 0.91872992, 0.9172607 , 0.91533027]),\n",
       " array([0.93629693, 0.9342846 , 0.93399841, 0.93909517, 0.93632777]),\n",
       " array([0.96283887, 0.9683675 , 0.96489754, 0.96430647, 0.96165621]),\n",
       " array([0.95331602, 0.94744034, 0.95415169]),\n",
       " array([0.97125926, 0.97194189, 0.9721208 ])]"
      ]
     },
     "execution_count": 121,
     "metadata": {},
     "output_type": "execute_result"
    }
   ],
   "source": [
    "results"
   ]
  },
  {
   "cell_type": "code",
   "execution_count": 122,
   "id": "7728be44",
   "metadata": {},
   "outputs": [
    {
     "data": {
      "text/plain": [
       "['LR', 'KNN', 'MLP', 'DT', 'RF']"
      ]
     },
     "execution_count": 122,
     "metadata": {},
     "output_type": "execute_result"
    }
   ],
   "source": [
    "names"
   ]
  },
  {
   "cell_type": "code",
   "execution_count": 124,
   "id": "0e86774c",
   "metadata": {},
   "outputs": [
    {
     "name": "stdout",
     "output_type": "stream",
     "text": [
      "xg_reg Mean score: 0.98 (avg) 0.00 (std)\n",
      "Wall time: 5.85 s\n"
     ]
    }
   ],
   "source": [
    "%%time\n",
    "xg_reg = xgb.XGBRegressor()\n",
    "scores = cross_val_score(xg_reg, X_train,  y_train, cv=3,  scoring=scoring)\n",
    "msg = (\"xg_reg Mean score: {:.2f} (avg) {:.2f} (std)\".format(scores.mean(), scores.std()))\n",
    "print(msg)\n",
    "results.append(scores)\n",
    "names.append('xg_reg')"
   ]
  },
  {
   "cell_type": "code",
   "execution_count": 125,
   "id": "98cc6f73",
   "metadata": {},
   "outputs": [
    {
     "data": {
      "text/plain": [
       "[array([0.91357604, 0.92564848, 0.91872992, 0.9172607 , 0.91533027]),\n",
       " array([0.93629693, 0.9342846 , 0.93399841, 0.93909517, 0.93632777]),\n",
       " array([0.96283887, 0.9683675 , 0.96489754, 0.96430647, 0.96165621]),\n",
       " array([0.95331602, 0.94744034, 0.95415169]),\n",
       " array([0.97125926, 0.97194189, 0.9721208 ]),\n",
       " array([0.97646056, 0.97666684, 0.97654977])]"
      ]
     },
     "execution_count": 125,
     "metadata": {},
     "output_type": "execute_result"
    }
   ],
   "source": [
    "results"
   ]
  },
  {
   "cell_type": "code",
   "execution_count": 126,
   "id": "0b8db18b",
   "metadata": {},
   "outputs": [
    {
     "data": {
      "text/plain": [
       "['LR', 'KNN', 'MLP', 'DT', 'RF', 'xg_reg']"
      ]
     },
     "execution_count": 126,
     "metadata": {},
     "output_type": "execute_result"
    }
   ],
   "source": [
    "names"
   ]
  },
  {
   "cell_type": "code",
   "execution_count": null,
   "id": "8fe0ebe2",
   "metadata": {},
   "outputs": [],
   "source": []
  },
  {
   "cell_type": "code",
   "execution_count": null,
   "id": "74eb95e0",
   "metadata": {},
   "outputs": [],
   "source": []
  },
  {
   "cell_type": "code",
   "execution_count": null,
   "id": "d3b954f4",
   "metadata": {},
   "outputs": [],
   "source": []
  },
  {
   "cell_type": "code",
   "execution_count": 90,
   "id": "38b4394a",
   "metadata": {},
   "outputs": [
    {
     "name": "stdout",
     "output_type": "stream",
     "text": [
      "SVR Mean score: 0.40 (avg) 0.01 (std)\n",
      "Wall time: 5min 13s\n"
     ]
    }
   ],
   "source": [
    "# %%time\n",
    "# SVReg = SVR()\n",
    "# scores = cross_val_score(SVReg, X_train,  y_train, cv=3,  scoring=scoring)\n",
    "# msg = (\"SVR Mean score: {:.2f} (avg) {:.2f} (std)\".format(scores.mean(), scores.std()))\n",
    "# print(msg)\n",
    "# results.append(scores)\n",
    "# names.append('SVR')"
   ]
  },
  {
   "cell_type": "code",
   "execution_count": 167,
   "id": "cd3d1d82",
   "metadata": {},
   "outputs": [
    {
     "name": "stdout",
     "output_type": "stream",
     "text": [
      "NB Mean score: 0.75 (avg) 0.01 (std)\n",
      "Wall time: 2min 21s\n"
     ]
    }
   ],
   "source": [
    "# %%time\n",
    "# NB = GaussianNB()\n",
    "# scores = cross_val_score(NB, X_train,  y_train, cv=3,  scoring=scoring)\n",
    "# msg = (\"NB Mean score: {:.2f} (avg) {:.2f} (std)\".format(scores.mean(), scores.std()))\n",
    "# print(msg)\n",
    "# results.append(scores)\n",
    "# names.append('NB')"
   ]
  },
  {
   "cell_type": "code",
   "execution_count": 129,
   "id": "7654c5c1",
   "metadata": {},
   "outputs": [
    {
     "data": {
      "image/png": "[encoded data removed]",
      "text/plain": [
       "<Figure size 864x432 with 1 Axes>"
      ]
     },
     "metadata": {
      "needs_background": "light"
     },
     "output_type": "display_data"
    }
   ],
   "source": [
    "fig = plt.figure(figsize=(12,6))\n",
    "fig.suptitle('Algorithm Comparison')\n",
    "ax = fig.add_subplot(111)\n",
    "plt.boxplot(results)\n",
    "ax.set_xticklabels(names)\n",
    "plt.plot([-2,19], [baseline_mean_score, baseline_mean_score])\n",
    "plt.xlim(0, 7)\n",
    "plt.show()"
   ]
  },
  {
   "cell_type": "markdown",
   "id": "proud-atmosphere",
   "metadata": {},
   "source": [
    "### Hyperparameter Fine-tuning for final selected model # Random Forest"
   ]
  },
  {
   "cell_type": "code",
   "execution_count": null,
   "id": "77e02778",
   "metadata": {},
   "outputs": [],
   "source": []
  },
  {
   "cell_type": "markdown",
   "id": "expanded-pitch",
   "metadata": {},
   "source": [
    "### Evaluate the fine-tuned Model (whether it will generalize well with unseen data - testing dataset)"
   ]
  },
  {
   "cell_type": "code",
   "execution_count": 19,
   "id": "0d22c851",
   "metadata": {},
   "outputs": [
    {
     "name": "stdout",
     "output_type": "stream",
     "text": [
      "RandomForestRegressor(min_samples_split=3, n_estimators=700, random_state=42)\n",
      "{'max_depth': None, 'min_samples_split': 3, 'n_estimators': 700}\n",
      "0.9738961888985889\n",
      "Wall time: 30min 55s\n"
     ]
    }
   ],
   "source": [
    "%%time\n",
    "# Hyperparameter fine-tuning for Random forest\n",
    "parameters = {'n_estimators': [300, 500, 700],\n",
    "              'max_depth': [5, None],\n",
    "              'min_samples_split': [2, 3, 5]}\n",
    "#               'min_samples_leaf': [2, 3, 4],\n",
    "#               'max_features': ['sqrt', 'log2']}\n",
    "    \n",
    "gs_clf = GridSearchCV(RandomForestRegressor(random_state=SEED),\n",
    "                      parameters, \n",
    "                      cv=5,\n",
    "                      scoring='r2',\n",
    "#                       scoring='f1_macro',\n",
    "#                       scoring='roc_auc_ovr',\n",
    "                      n_jobs=-1)\n",
    "_ = gs_clf.fit(X_train, y_train)\n"
   ]
  },
  {
   "cell_type": "code",
   "execution_count": 33,
   "id": "6d251a7c",
   "metadata": {},
   "outputs": [
    {
     "name": "stdout",
     "output_type": "stream",
     "text": [
      "RandomForestRegressor(min_samples_split=3, n_estimators=700, random_state=42)\n",
      "{'max_depth': None, 'min_samples_split': 3, 'n_estimators': 700}\n",
      "0.9738961888985889\n"
     ]
    }
   ],
   "source": [
    "final_clf = gs_clf.best_estimator_\n",
    "print(gs_clf.best_estimator_)\n",
    "print(gs_clf.best_params_)\n",
    "print(gs_clf.best_score_)\n"
   ]
  },
  {
   "cell_type": "code",
   "execution_count": 25,
   "id": "acceptable-rhythm",
   "metadata": {},
   "outputs": [
    {
     "name": "stdout",
     "output_type": "stream",
     "text": [
      "Final Model (Random Forest) Metrics -\n",
      "\tR2 Score: 0.9754351483728942\n",
      "\tMean Absolute Error: 297.6957578302264\n",
      "\tMean Square Error: 383150.54828651086\n"
     ]
    }
   ],
   "source": [
    "y_pred = final_clf.predict(X_test)\n",
    "\n",
    "r2score = r2_score(y_test, y_pred)\n",
    "mae = mean_absolute_error(y_test, y_pred)\n",
    "mse = mean_squared_error(y_test, y_pred)\n",
    "\n",
    "print('Final Model (Random Forest) Metrics -')\n",
    "print('\\tR2 Score:', r2score)\n",
    "print('\\tMean Absolute Error:', mae)\n",
    "print('\\tMean Square Error:', mse)"
   ]
  },
  {
   "cell_type": "markdown",
   "id": "meaningful-russia",
   "metadata": {},
   "source": [
    "## Post-mortem Analysis"
   ]
  },
  {
   "cell_type": "code",
   "execution_count": 26,
   "id": "591dfa86",
   "metadata": {},
   "outputs": [],
   "source": [
    "# %%time\n",
    "# rf = RandomForestRegressor(oob_score=True, n_jobs=-1, random_state=SEED)\n",
    "# rf.fit(X_train, y_train)"
   ]
  },
  {
   "cell_type": "code",
   "execution_count": 27,
   "id": "agreed-benchmark",
   "metadata": {},
   "outputs": [
    {
     "name": "stdout",
     "output_type": "stream",
     "text": [
      "target value  820.8751258503399 VS 873 % as 106.34991517079581\n",
      "target value  10716.770462585033 VS 9265 % as 86.45328396597154\n",
      "target value  10766.64118367347 VS 11737 % as 109.0126419165708\n",
      "target value  1060.930891156462 VS 1064 % as 100.28928452070922\n",
      "target value  801.575273809524 VS 906 % as 113.02743854537735\n",
      "target value  3390.4983503401354 VS 3527 % as 104.02600548813629\n",
      "target value  3216.6167687074835 VS 2638 % as 82.01163488493576\n",
      "target value  1169.0908333333336 VS 893 % as 76.38414180819994\n",
      "target value  2314.892602040817 VS 2247 % as 97.06713814796579\n",
      "target value  4639.336801020406 VS 4547 % as 98.00969826118042\n",
      "target value  1031.2018197278912 VS 926 % as 89.79813478649102\n",
      "target value  908.8116887755103 VS 795 % as 87.47686785049444\n",
      "target value  612.6034047619048 VS 526 % as 85.86305526728762\n",
      "target value  5583.9255544217685 VS 5637 % as 100.95048626742889\n",
      "target value  1643.3916632653054 VS 1336 % as 81.29528887504884\n",
      "target value  635.721380952381 VS 625 % as 98.31350945970715\n",
      "target value  3410.393428571429 VS 3710 % as 108.78510288339585\n",
      "target value  488.5181428571429 VS 504 % as 103.16914681045621\n",
      "target value  4356.504914965989 VS 4416 % as 101.36566091844925\n",
      "target value  562.8076938775507 VS 630 % as 111.93876822463416\n",
      "target value  3824.353176870747 VS 3632 % as 94.9703082331915\n",
      "target value  14562.190625850346 VS 15072 % as 103.5009112794105\n",
      "target value  932.9241938775514 VS 762 % as 81.67866210360222\n",
      "target value  812.5188775510206 VS 814 % as 100.18228775846336\n",
      "target value  3522.669297619046 VS 3334 % as 94.64413824634158\n",
      "target value  7687.781040816327 VS 7568 % as 98.44192959996676\n",
      "target value  2882.781230158731 VS 3138 % as 108.85321325015067\n",
      "target value  1026.5155884353737 VS 1020 % as 99.36527135985291\n",
      "target value  2478.940925170067 VS 2200 % as 88.74757674384958\n",
      "target value  4366.564802721089 VS 4286 % as 98.15496147747804\n",
      "target value  836.1834149659867 VS 911 % as 108.94738925634596\n",
      "target value  4541.816170068026 VS 4604 % as 101.36914017660568\n",
      "target value  936.0433775510206 VS 868 % as 92.73074526428005\n",
      "target value  15770.282455782308 VS 17902 % as 113.5173073164335\n",
      "target value  2626.6618027210898 VS 2467 % as 93.92149371663729\n",
      "target value  5153.638564625854 VS 5022 % as 97.44571601257779\n",
      "target value  4417.927489795917 VS 4980 % as 112.72253814718106\n",
      "target value  4667.980142857143 VS 4785 % as 102.50686278779311\n",
      "target value  1722.4206428571424 VS 1837 % as 106.65222851444662\n",
      "target value  1886.6527789115637 VS 1911 % as 101.29049824962931\n",
      "target value  1315.4340260770982 VS 1385 % as 105.2884426389944\n",
      "target value  613.2478503401361 VS 544 % as 88.70801580442101\n",
      "target value  2185.8903809523817 VS 2300 % as 105.2202809455569\n",
      "target value  853.8353809523807 VS 706 % as 82.68572792246172\n",
      "target value  905.5293673469388 VS 809 % as 89.34000698069518\n",
      "target value  1161.6859999999997 VS 1115 % as 95.98118596591509\n",
      "target value  828.2532142857143 VS 813 % as 98.15838755315079\n",
      "target value  1786.6558095238101 VS 1786 % as 99.96329402001693\n",
      "target value  14767.53225510204 VS 14561 % as 98.60144368379025\n",
      "target value  2321.503280612245 VS 2188 % as 94.24927452279816\n",
      "target value  991.8459999999998 VS 982 % as 99.00730556961466\n",
      "target value  3999.9962721088427 VS 3858 % as 96.45008988885931\n",
      "target value  4506.624486394558 VS 5055 % as 112.16820960479359\n",
      "target value  1415.517360544218 VS 1270 % as 89.71984628374521\n",
      "target value  2100.307653061225 VS 1949 % as 92.7959290706439\n",
      "target value  1007.0828537414966 VS 1125 % as 111.70878302817088\n",
      "target value  2220.9461190476204 VS 2147 % as 96.67051269666416\n",
      "target value  1819.7690918367343 VS 1785 % as 98.08936793175\n",
      "target value  4718.134979591838 VS 4536 % as 96.13968272676264\n",
      "target value  2698.2929535147387 VS 3284 % as 121.70657732780023\n",
      "target value  2232.4107517006805 VS 2126 % as 95.2333703992594\n",
      "target value  729.1016394557822 VS 778 % as 106.70665897565621\n",
      "target value  3238.1047403628113 VS 3581 % as 110.58938135518028\n",
      "target value  537.1321904761904 VS 593 % as 110.40112853304889\n",
      "target value  572.0470476190477 VS 588 % as 102.78874831141094\n",
      "target value  3335.3464081632637 VS 3107 % as 93.1537423637801\n",
      "target value  2205.9369421768715 VS 1814 % as 82.23263164584847\n",
      "target value  3507.098102040816 VS 3529 % as 100.62450200484668\n",
      "target value  839.5281428571428 VS 805 % as 95.88719649830509\n",
      "target value  914.5298384353741 VS 918 % as 100.37944760452679\n",
      "target value  3275.2764285714297 VS 3577 % as 109.21215592053622\n",
      "target value  1858.180965986394 VS 1659 % as 89.28086286360913\n",
      "target value  2130.111517006802 VS 2394 % as 112.38848205299645\n",
      "target value  2807.989517006803 VS 2863 % as 101.95907009837543\n",
      "target value  1997.705722222222 VS 1865 % as 93.3570935525678\n",
      "target value  981.7843605442177 VS 847 % as 86.2714903637796\n",
      "target value  963.0104642857141 VS 1013 % as 105.19096495502407\n",
      "target value  5979.179074829931 VS 6237 % as 104.3119786503033\n",
      "target value  14975.803275510203 VS 15247 % as 101.81089935211209\n",
      "target value  3249.6633571428574 VS 3102 % as 95.45604141369631\n",
      "target value  708.9339455782315 VS 900 % as 126.95117868364004\n",
      "target value  4385.972090136053 VS 4301 % as 98.06263951548726\n",
      "target value  14001.708340136058 VS 10184 % as 72.73398182997033\n",
      "target value  4592.73186734694 VS 3991 % as 86.89817118162094\n",
      "target value  4081.9034217687063 VS 5207 % as 127.56303768068535\n",
      "target value  822.9165952380954 VS 1080 % as 131.24051772069592\n",
      "target value  863.5004761904761 VS 877 % as 101.56334873943325\n",
      "target value  4344.45759410431 VS 4118 % as 94.78743688483398\n",
      "target value  6599.351656462585 VS 6908 % as 104.67694948844199\n",
      "target value  6663.065998299321 VS 5430 % as 81.49401493825744\n",
      "target value  1784.0346768707489 VS 1815 % as 101.73569065280532\n",
      "target value  3824.2312891156453 VS 3923 % as 102.58270756702048\n",
      "target value  597.5240374149658 VS 650 % as 108.78223457119114\n",
      "target value  7799.997462585036 VS 8094 % as 103.76926452636981\n",
      "target value  17502.49551360544 VS 17895 % as 102.24256298817187\n",
      "target value  11328.10715646258 VS 15729 % as 138.8493221572922\n",
      "target value  379.3294285714287 VS 386 % as 101.75851672086\n",
      "target value  15486.864290816311 VS 15949 % as 102.98404958231431\n",
      "target value  5471.812435374147 VS 5224 % as 95.47110873588996\n",
      "target value  694.0561564625847 VS 846 % as 121.89215413228689\n"
     ]
    }
   ],
   "source": [
    "own_pred = final_clf.predict(X_test)\n",
    "for n in range(100):\n",
    "    print(\"target value \",str(own_pred[n]), \"VS\", str(y_test.iloc[n]),\"% as\", (y_test.iloc[n]) / (own_pred[n])*100)\n",
    "    n += 1"
   ]
  },
  {
   "cell_type": "code",
   "execution_count": 34,
   "id": "0a88df79",
   "metadata": {},
   "outputs": [],
   "source": [
    "import pickle"
   ]
  },
  {
   "cell_type": "code",
   "execution_count": 44,
   "id": "ba2e0008",
   "metadata": {},
   "outputs": [
    {
     "name": "stdout",
     "output_type": "stream",
     "text": [
      "<class 'pandas.core.frame.DataFrame'>\n",
      "Int64Index: 53920 entries, 0 to 53939\n",
      "Data columns (total 22 columns):\n",
      " #   Column         Non-Null Count  Dtype  \n",
      "---  ------         --------------  -----  \n",
      " 0   carat          53920 non-null  float64\n",
      " 1   depth          53920 non-null  float64\n",
      " 2   table          53920 non-null  float64\n",
      " 3   y              53920 non-null  float64\n",
      " 4   cut_Good       53920 non-null  uint8  \n",
      " 5   cut_Ideal      53920 non-null  uint8  \n",
      " 6   cut_Premium    53920 non-null  uint8  \n",
      " 7   cut_Very Good  53920 non-null  uint8  \n",
      " 8   color_E        53920 non-null  uint8  \n",
      " 9   color_F        53920 non-null  uint8  \n",
      " 10  color_G        53920 non-null  uint8  \n",
      " 11  color_H        53920 non-null  uint8  \n",
      " 12  color_I        53920 non-null  uint8  \n",
      " 13  color_J        53920 non-null  uint8  \n",
      " 14  clarity_IF     53920 non-null  uint8  \n",
      " 15  clarity_SI1    53920 non-null  uint8  \n",
      " 16  clarity_SI2    53920 non-null  uint8  \n",
      " 17  clarity_VS1    53920 non-null  uint8  \n",
      " 18  clarity_VS2    53920 non-null  uint8  \n",
      " 19  clarity_VVS1   53920 non-null  uint8  \n",
      " 20  clarity_VVS2   53920 non-null  uint8  \n",
      " 21  price          53920 non-null  int64  \n",
      "dtypes: float64(4), int64(1), uint8(17)\n",
      "memory usage: 3.3 MB\n"
     ]
    }
   ],
   "source": [
    "df.info()"
   ]
  },
  {
   "cell_type": "code",
   "execution_count": 88,
   "id": "51dd4884",
   "metadata": {},
   "outputs": [],
   "source": [
    "#simulating an user input values\n",
    "X_UsrInput = [[0.1, 50, 50, 4, 0,0,0,1,1,0,0,0,0,0, 1,0,0,0,0,0,0]]"
   ]
  },
  {
   "cell_type": "code",
   "execution_count": 89,
   "id": "eee383bc",
   "metadata": {},
   "outputs": [
    {
     "name": "stdout",
     "output_type": "stream",
     "text": [
      "[[-1.47003881 -8.26794098 -3.36758745 -1.55673449 -0.31666994 -0.81768689\n",
      "  -0.58248999  1.85696542  2.13072689 -0.46266927 -0.51231612 -0.42970432\n",
      "  -0.33610345 -0.23453986  5.46690684 -0.56613178 -0.44948661 -0.42232507\n",
      "  -0.54252324 -0.27221974 -0.32366082]]\n"
     ]
    }
   ],
   "source": [
    "#pass the value into scaler and dump into a file.\n",
    "filename = 'diamond_Price_Prediction_scaler.sav'\n",
    "pickle.dump(scaler, open(filename, 'wb'))\n",
    "\n",
    "#load the file and save the result as variable\n",
    "loaded_scaler = pickle.load(open(filename, 'rb'))\n",
    "scaler_result = loaded_scaler.transform(X_UsrInput)\n",
    "print(scaler_result)\n"
   ]
  },
  {
   "cell_type": "code",
   "execution_count": 90,
   "id": "433e96be",
   "metadata": {},
   "outputs": [
    {
     "name": "stdout",
     "output_type": "stream",
     "text": [
      "[611.8242517]\n"
     ]
    }
   ],
   "source": [
    "#dump the \n",
    "filename = 'diamond_Price_Prediction_model.sav'\n",
    "pickle.dump(final_clf, open(filename, 'wb'))\n",
    "# load the model from disk\n",
    "loaded_model = pickle.load(open(filename, 'rb'))\n",
    "# some time later...\n",
    " "
   ]
  },
  {
   "cell_type": "code",
   "execution_count": 93,
   "id": "fd077146",
   "metadata": {},
   "outputs": [
    {
     "name": "stdout",
     "output_type": "stream",
     "text": [
      "[611.8242517]\n"
     ]
    }
   ],
   "source": [
    "result = loaded_model.predict(scaler_result)\n",
    "print(result)\n"
   ]
  },
  {
   "cell_type": "code",
   "execution_count": 80,
   "id": "25300e26",
   "metadata": {},
   "outputs": [
    {
     "data": {
      "text/plain": [
       "array([-0.2074647 ,  0.17258685, -1.10642673, -0.05783164, -0.31666994,\n",
       "        1.22296201, -0.58248999, -0.53851299, -0.46932341,  2.16137113,\n",
       "       -0.51231612, -0.42970432, -0.33610345, -0.23453986, -0.18291879,\n",
       "       -0.56613178, -0.44948661, -0.42232507, -0.54252324, -0.27221974,\n",
       "        3.08965412])"
      ]
     },
     "execution_count": 80,
     "metadata": {},
     "output_type": "execute_result"
    }
   ],
   "source": [
    "n = 101\n",
    "X_test[n]"
   ]
  },
  {
   "cell_type": "code",
   "execution_count": 81,
   "id": "90883e53",
   "metadata": {},
   "outputs": [
    {
     "name": "stdout",
     "output_type": "stream",
     "text": [
      "[3058.75]\n"
     ]
    }
   ],
   "source": [
    "loaded_model = pickle.load(open(filename, 'rb'))\n",
    "user_input = X_test[[n]]\n",
    "user_pred = loaded_model.predict(user_input)\n",
    "print(user_pred)\n"
   ]
  },
  {
   "cell_type": "code",
   "execution_count": 95,
   "id": "75b45a08",
   "metadata": {},
   "outputs": [
    {
     "data": {
      "text/plain": [
       "3191"
      ]
     },
     "execution_count": 95,
     "metadata": {},
     "output_type": "execute_result"
    }
   ],
   "source": [
    "y_test.iloc[n]"
   ]
  },
  {
   "cell_type": "code",
   "execution_count": 73,
   "id": "ed4e25e8",
   "metadata": {},
   "outputs": [
    {
     "data": {
      "text/plain": [
       "numpy.ndarray"
      ]
     },
     "execution_count": 73,
     "metadata": {},
     "output_type": "execute_result"
    }
   ],
   "source": [
    "type(X_test)"
   ]
  },
  {
   "cell_type": "code",
   "execution_count": 33,
   "id": "crazy-revolution",
   "metadata": {},
   "outputs": [],
   "source": [
    "# Creating the feature importances dataframe\n",
    "feature_importance = np.array(rf.feature_importances_)\n",
    "feature_names = np.array(X.columns)\n",
    "\n",
    "feat_imp = pd.DataFrame({'feature_names':feature_names,'feature_importance':feature_importance})\n",
    "feat_imp_sorted = feat_imp.sort_values('feature_importance', ascending=False)"
   ]
  },
  {
   "cell_type": "code",
   "execution_count": 34,
   "id": "inside-vision",
   "metadata": {},
   "outputs": [
    {
     "data": {
      "image/png": "[encoded data removed]",
      "text/plain": [
       "<Figure size 720x576 with 1 Axes>"
      ]
     },
     "metadata": {
      "needs_background": "light"
     },
     "output_type": "display_data"
    }
   ],
   "source": [
    "plt.figure(figsize=(10,8))\n",
    "_ = sns.barplot(x=feat_imp_sorted['feature_importance'], y=feat_imp_sorted['feature_names'])"
   ]
  },
  {
   "cell_type": "code",
   "execution_count": 4,
   "id": "9a698134",
   "metadata": {},
   "outputs": [
    {
     "ename": "NameError",
     "evalue": "name 'plt' is not defined",
     "output_type": "error",
     "traceback": [
      "\u001b[1;31m---------------------------------------------------------------------------\u001b[0m",
      "\u001b[1;31mNameError\u001b[0m                                 Traceback (most recent call last)",
      "\u001b[1;32m<ipython-input-4-b7aa82e82dcf>\u001b[0m in \u001b[0;36m<module>\u001b[1;34m\u001b[0m\n\u001b[0;32m     10\u001b[0m \u001b[1;31m# thresholds\u001b[0m\u001b[1;33m\u001b[0m\u001b[1;33m\u001b[0m\u001b[1;33m\u001b[0m\u001b[0m\n\u001b[0;32m     11\u001b[0m \u001b[1;31m# array([1.8 , 0.8 , 0.4 , 0.35, 0.1 ])\u001b[0m\u001b[1;33m\u001b[0m\u001b[1;33m\u001b[0m\u001b[1;33m\u001b[0m\u001b[0m\n\u001b[1;32m---> 12\u001b[1;33m \u001b[0mplt\u001b[0m\u001b[1;33m.\u001b[0m\u001b[0mfigure\u001b[0m\u001b[1;33m(\u001b[0m\u001b[1;33m)\u001b[0m\u001b[1;33m\u001b[0m\u001b[1;33m\u001b[0m\u001b[0m\n\u001b[0m\u001b[0;32m     13\u001b[0m \u001b[0mlw\u001b[0m \u001b[1;33m=\u001b[0m \u001b[1;36m2\u001b[0m\u001b[1;33m\u001b[0m\u001b[1;33m\u001b[0m\u001b[0m\n\u001b[0;32m     14\u001b[0m plt.plot(fpr[2], tpr[2], color='darkorange',\n",
      "\u001b[1;31mNameError\u001b[0m: name 'plt' is not defined"
     ]
    }
   ],
   "source": []
  },
  {
   "cell_type": "code",
   "execution_count": null,
   "id": "cbc72075",
   "metadata": {},
   "outputs": [],
   "source": []
  }
 ],
 "metadata": {
  "kernelspec": {
   "display_name": "Python 3",
   "language": "python",
   "name": "python3"
  },
  "language_info": {
   "codemirror_mode": {
    "name": "ipython",
    "version": 3
   },
   "file_extension": ".py",
   "mimetype": "text/x-python",
   "name": "python",
   "nbconvert_exporter": "python",
   "pygments_lexer": "ipython3",
   "version": "3.8.8"
  }
 },
 "nbformat": 4,
 "nbformat_minor": 5
}
